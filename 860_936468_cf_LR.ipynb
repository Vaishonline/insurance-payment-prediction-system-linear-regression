{
 "cells": [
  {
   "cell_type": "code",
   "execution_count": 1,
   "metadata": {},
   "outputs": [],
   "source": [
    "#importing libraries\n",
    "import pandas as pd\n",
    "import numpy as np\n",
    "import matplotlib.pyplot as plt\n",
    "%matplotlib inline\n",
    "import seaborn as sn"
   ]
  },
  {
   "cell_type": "markdown",
   "metadata": {},
   "source": [
    "## Data collection"
   ]
  },
  {
   "cell_type": "code",
   "execution_count": 2,
   "metadata": {},
   "outputs": [],
   "source": [
    "#reading the train dataset \n",
    "data=pd.read_csv(\"train_qnU1GcL.csv\")"
   ]
  },
  {
   "cell_type": "code",
   "execution_count": 3,
   "metadata": {},
   "outputs": [
    {
     "data": {
      "text/html": [
       "<div>\n",
       "<style scoped>\n",
       "    .dataframe tbody tr th:only-of-type {\n",
       "        vertical-align: middle;\n",
       "    }\n",
       "\n",
       "    .dataframe tbody tr th {\n",
       "        vertical-align: top;\n",
       "    }\n",
       "\n",
       "    .dataframe thead th {\n",
       "        text-align: right;\n",
       "    }\n",
       "</style>\n",
       "<table border=\"1\" class=\"dataframe\">\n",
       "  <thead>\n",
       "    <tr style=\"text-align: right;\">\n",
       "      <th></th>\n",
       "      <th>id</th>\n",
       "      <th>perc_premium_paid_by_cash_credit</th>\n",
       "      <th>age_in_days</th>\n",
       "      <th>Income</th>\n",
       "      <th>Count_3-6_months_late</th>\n",
       "      <th>Count_6-12_months_late</th>\n",
       "      <th>Count_more_than_12_months_late</th>\n",
       "      <th>application_underwriting_score</th>\n",
       "      <th>no_of_premiums_paid</th>\n",
       "      <th>sourcing_channel</th>\n",
       "      <th>residence_area_type</th>\n",
       "    </tr>\n",
       "  </thead>\n",
       "  <tbody>\n",
       "    <tr>\n",
       "      <th>0</th>\n",
       "      <td>649</td>\n",
       "      <td>0.001</td>\n",
       "      <td>27384</td>\n",
       "      <td>51150</td>\n",
       "      <td>0.0</td>\n",
       "      <td>0.0</td>\n",
       "      <td>0.0</td>\n",
       "      <td>99.89</td>\n",
       "      <td>7</td>\n",
       "      <td>A</td>\n",
       "      <td>Rural</td>\n",
       "    </tr>\n",
       "    <tr>\n",
       "      <th>1</th>\n",
       "      <td>81136</td>\n",
       "      <td>0.124</td>\n",
       "      <td>23735</td>\n",
       "      <td>285140</td>\n",
       "      <td>0.0</td>\n",
       "      <td>0.0</td>\n",
       "      <td>0.0</td>\n",
       "      <td>98.93</td>\n",
       "      <td>19</td>\n",
       "      <td>A</td>\n",
       "      <td>Urban</td>\n",
       "    </tr>\n",
       "    <tr>\n",
       "      <th>2</th>\n",
       "      <td>70762</td>\n",
       "      <td>1.000</td>\n",
       "      <td>17170</td>\n",
       "      <td>186030</td>\n",
       "      <td>0.0</td>\n",
       "      <td>0.0</td>\n",
       "      <td>0.0</td>\n",
       "      <td>NaN</td>\n",
       "      <td>2</td>\n",
       "      <td>B</td>\n",
       "      <td>Urban</td>\n",
       "    </tr>\n",
       "    <tr>\n",
       "      <th>3</th>\n",
       "      <td>53935</td>\n",
       "      <td>0.198</td>\n",
       "      <td>16068</td>\n",
       "      <td>123540</td>\n",
       "      <td>0.0</td>\n",
       "      <td>0.0</td>\n",
       "      <td>0.0</td>\n",
       "      <td>99.00</td>\n",
       "      <td>11</td>\n",
       "      <td>B</td>\n",
       "      <td>Rural</td>\n",
       "    </tr>\n",
       "    <tr>\n",
       "      <th>4</th>\n",
       "      <td>15476</td>\n",
       "      <td>0.041</td>\n",
       "      <td>10591</td>\n",
       "      <td>200020</td>\n",
       "      <td>1.0</td>\n",
       "      <td>0.0</td>\n",
       "      <td>0.0</td>\n",
       "      <td>99.17</td>\n",
       "      <td>14</td>\n",
       "      <td>A</td>\n",
       "      <td>Rural</td>\n",
       "    </tr>\n",
       "  </tbody>\n",
       "</table>\n",
       "</div>"
      ],
      "text/plain": [
       "      id  perc_premium_paid_by_cash_credit  age_in_days  Income  \\\n",
       "0    649                             0.001        27384   51150   \n",
       "1  81136                             0.124        23735  285140   \n",
       "2  70762                             1.000        17170  186030   \n",
       "3  53935                             0.198        16068  123540   \n",
       "4  15476                             0.041        10591  200020   \n",
       "\n",
       "   Count_3-6_months_late  Count_6-12_months_late  \\\n",
       "0                    0.0                     0.0   \n",
       "1                    0.0                     0.0   \n",
       "2                    0.0                     0.0   \n",
       "3                    0.0                     0.0   \n",
       "4                    1.0                     0.0   \n",
       "\n",
       "   Count_more_than_12_months_late  application_underwriting_score  \\\n",
       "0                             0.0                           99.89   \n",
       "1                             0.0                           98.93   \n",
       "2                             0.0                             NaN   \n",
       "3                             0.0                           99.00   \n",
       "4                             0.0                           99.17   \n",
       "\n",
       "   no_of_premiums_paid sourcing_channel residence_area_type  \n",
       "0                    7                A               Rural  \n",
       "1                   19                A               Urban  \n",
       "2                    2                B               Urban  \n",
       "3                   11                B               Rural  \n",
       "4                   14                A               Rural  "
      ]
     },
     "execution_count": 3,
     "metadata": {},
     "output_type": "execute_result"
    }
   ],
   "source": [
    "#getting the test dataset\n",
    "\n",
    "data_test=pd.read_csv(\"test_LxCaReE_DvdCKVT2.csv\")\n",
    "data_test.head()"
   ]
  },
  {
   "cell_type": "code",
   "execution_count": 4,
   "metadata": {},
   "outputs": [
    {
     "data": {
      "text/plain": [
       "((79853, 12), (34224, 11))"
      ]
     },
     "execution_count": 4,
     "metadata": {},
     "output_type": "execute_result"
    }
   ],
   "source": [
    "data.shape, data_test.shape"
   ]
  },
  {
   "cell_type": "code",
   "execution_count": 5,
   "metadata": {},
   "outputs": [
    {
     "data": {
      "text/plain": [
       "id                                    int64\n",
       "perc_premium_paid_by_cash_credit    float64\n",
       "age_in_days                           int64\n",
       "Income                                int64\n",
       "Count_3-6_months_late               float64\n",
       "Count_6-12_months_late              float64\n",
       "Count_more_than_12_months_late      float64\n",
       "application_underwriting_score      float64\n",
       "no_of_premiums_paid                   int64\n",
       "sourcing_channel                     object\n",
       "residence_area_type                  object\n",
       "dtype: object"
      ]
     },
     "execution_count": 5,
     "metadata": {},
     "output_type": "execute_result"
    }
   ],
   "source": [
    "#data types of the columns\n",
    "data_test.dtypes"
   ]
  },
  {
   "cell_type": "code",
   "execution_count": 6,
   "metadata": {},
   "outputs": [
    {
     "data": {
      "text/plain": [
       "<matplotlib.axes._subplots.AxesSubplot at 0x7fb60facc7b8>"
      ]
     },
     "execution_count": 6,
     "metadata": {},
     "output_type": "execute_result"
    },
    {
     "data": {
      "image/png": "[encoded data removed]",
      "text/plain": [
       "<Figure size 432x288 with 1 Axes>"
      ]
     },
     "metadata": {
      "needs_background": "light"
     },
     "output_type": "display_data"
    }
   ],
   "source": [
    "UPPERBOUND,LOWERBOUND=np.percentile(data['perc_premium_paid_by_cash_credit'],[1,99])\n",
    "y=np.clip(data['perc_premium_paid_by_cash_credit'],UPPERBOUND,LOWERBOUND)\n",
    "pd.Series(y).hist(bins=30)"
   ]
  },
  {
   "cell_type": "code",
   "execution_count": 7,
   "metadata": {},
   "outputs": [
    {
     "data": {
      "text/plain": [
       "<matplotlib.axes._subplots.AxesSubplot at 0x7fb60f1db198>"
      ]
     },
     "execution_count": 7,
     "metadata": {},
     "output_type": "execute_result"
    },
    {
     "data": {
      "image/png": "[encoded data removed]",
      "text/plain": [
       "<Figure size 432x288 with 1 Axes>"
      ]
     },
     "metadata": {
      "needs_background": "light"
     },
     "output_type": "display_data"
    }
   ],
   "source": [
    "UPPERBOUND,LOWERBOUND=np.percentile(data['age_in_days'],[1,99])\n",
    "y=np.clip(data['age_in_days'],UPPERBOUND,LOWERBOUND)\n",
    "pd.Series(y).hist(bins=30)"
   ]
  },
  {
   "cell_type": "code",
   "execution_count": 8,
   "metadata": {},
   "outputs": [
    {
     "data": {
      "text/plain": [
       "<matplotlib.axes._subplots.AxesSubplot at 0x7fb60f11a8d0>"
      ]
     },
     "execution_count": 8,
     "metadata": {},
     "output_type": "execute_result"
    },
    {
     "data": {
      "image/png": "[encoded data removed]",
      "text/plain": [
       "<Figure size 432x288 with 1 Axes>"
      ]
     },
     "metadata": {
      "needs_background": "light"
     },
     "output_type": "display_data"
    }
   ],
   "source": [
    "UPPERBOUND,LOWERBOUND=np.percentile(data_test['age_in_days'],[1,99])\n",
    "y=np.clip(data_test['age_in_days'],UPPERBOUND,LOWERBOUND)\n",
    "pd.Series(y).hist(bins=30)"
   ]
  },
  {
   "cell_type": "code",
   "execution_count": 9,
   "metadata": {},
   "outputs": [
    {
     "data": {
      "text/plain": [
       "<matplotlib.axes._subplots.AxesSubplot at 0x7fb60f0658d0>"
      ]
     },
     "execution_count": 9,
     "metadata": {},
     "output_type": "execute_result"
    },
    {
     "data": {
      "image/png": "[encoded data removed]",
      "text/plain": [
       "<Figure size 432x288 with 1 Axes>"
      ]
     },
     "metadata": {
      "needs_background": "light"
     },
     "output_type": "display_data"
    }
   ],
   "source": [
    "UPPERBOUND,LOWERBOUND=np.percentile(data_test['perc_premium_paid_by_cash_credit'],[1,99])\n",
    "y=np.clip(data_test['perc_premium_paid_by_cash_credit'],UPPERBOUND,LOWERBOUND)\n",
    "pd.Series(y).hist(bins=30)"
   ]
  },
  {
   "cell_type": "code",
   "execution_count": 10,
   "metadata": {},
   "outputs": [
    {
     "data": {
      "text/plain": [
       "<matplotlib.axes._subplots.AxesSubplot at 0x7fb60f11efd0>"
      ]
     },
     "execution_count": 10,
     "metadata": {},
     "output_type": "execute_result"
    },
    {
     "data": {
      "image/png": "[encoded data removed]",
      "text/plain": [
       "<Figure size 432x288 with 1 Axes>"
      ]
     },
     "metadata": {
      "needs_background": "light"
     },
     "output_type": "display_data"
    }
   ],
   "source": [
    "UPPERBOUND,LOWERBOUND=np.percentile(data['Income'],[1,99])\n",
    "y=np.clip(data['Income'],UPPERBOUND,LOWERBOUND)\n",
    "pd.Series(y).hist(bins=30)"
   ]
  },
  {
   "cell_type": "code",
   "execution_count": 11,
   "metadata": {},
   "outputs": [
    {
     "data": {
      "text/plain": [
       "<matplotlib.axes._subplots.AxesSubplot at 0x7fb60ef3e588>"
      ]
     },
     "execution_count": 11,
     "metadata": {},
     "output_type": "execute_result"
    },
    {
     "data": {
      "image/png": "[encoded data removed]",
      "text/plain": [
       "<Figure size 432x288 with 1 Axes>"
      ]
     },
     "metadata": {
      "needs_background": "light"
     },
     "output_type": "display_data"
    }
   ],
   "source": [
    "UPPERBOUND,LOWERBOUND=np.percentile(data_test['Income'],[1,99])\n",
    "y=np.clip(data_test['Income'],UPPERBOUND,LOWERBOUND)\n",
    "pd.Series(y).hist(bins=30)"
   ]
  },
  {
   "cell_type": "code",
   "execution_count": 12,
   "metadata": {},
   "outputs": [
    {
     "name": "stderr",
     "output_type": "stream",
     "text": [
      "/home/ec2-user/anaconda3/envs/python3/lib/python3.6/site-packages/pandas/core/generic.py:7360: SettingWithCopyWarning: \n",
      "A value is trying to be set on a copy of a slice from a DataFrame\n",
      "\n",
      "See the caveats in the documentation: https://pandas.pydata.org/pandas-docs/stable/user_guide/indexing.html#returning-a-view-versus-a-copy\n",
      "  result[mask] = np.nan\n"
     ]
    },
    {
     "data": {
      "text/plain": [
       "<matplotlib.axes._subplots.AxesSubplot at 0x7fb60ee7d048>"
      ]
     },
     "execution_count": 12,
     "metadata": {},
     "output_type": "execute_result"
    },
    {
     "data": {
      "image/png": "[encoded data removed]",
      "text/plain": [
       "<Figure size 432x288 with 1 Axes>"
      ]
     },
     "metadata": {
      "needs_background": "light"
     },
     "output_type": "display_data"
    }
   ],
   "source": [
    "UPPERBOUND,LOWERBOUND=np.percentile(data_test['application_underwriting_score'],[1,99])\n",
    "y=np.clip(data_test['application_underwriting_score'],UPPERBOUND,LOWERBOUND)\n",
    "pd.Series(y).hist(bins=30)"
   ]
  },
  {
   "cell_type": "code",
   "execution_count": 13,
   "metadata": {},
   "outputs": [
    {
     "data": {
      "text/plain": [
       "<matplotlib.axes._subplots.AxesSubplot at 0x7fb60ed1f0f0>"
      ]
     },
     "execution_count": 13,
     "metadata": {},
     "output_type": "execute_result"
    },
    {
     "data": {
      "image/png": "[encoded data removed]",
      "text/plain": [
       "<Figure size 432x288 with 1 Axes>"
      ]
     },
     "metadata": {
      "needs_background": "light"
     },
     "output_type": "display_data"
    }
   ],
   "source": [
    "UPPERBOUND,LOWERBOUND=np.percentile(data['application_underwriting_score'],[1,99])\n",
    "y=np.clip(data['application_underwriting_score'],UPPERBOUND,LOWERBOUND)\n",
    "pd.Series(y).hist(bins=30)"
   ]
  },
  {
   "cell_type": "markdown",
   "metadata": {},
   "source": [
    "## Handling outliers\n"
   ]
  },
  {
   "cell_type": "code",
   "execution_count": 14,
   "metadata": {},
   "outputs": [
    {
     "data": {
      "text/plain": [
       "<matplotlib.axes._subplots.AxesSubplot at 0x7fb60ebe4d68>"
      ]
     },
     "execution_count": 14,
     "metadata": {},
     "output_type": "execute_result"
    },
    {
     "data": {
      "image/png": "[encoded data removed]",
      "text/plain": [
       "<Figure size 432x288 with 1 Axes>"
      ]
     },
     "metadata": {
      "needs_background": "light"
     },
     "output_type": "display_data"
    }
   ],
   "source": [
    "data_test['no_of_premiums_paid'].plot.box()"
   ]
  },
  {
   "cell_type": "code",
   "execution_count": 15,
   "metadata": {},
   "outputs": [],
   "source": [
    "data.loc[data['age_in_days']>33750,'age_in_days']=data['age_in_days'].quantile(0.75)\n",
    "data_test.loc[data_test['age_in_days']>33750,'age_in_days']=data_test['age_in_days'].quantile(0.75)"
   ]
  },
  {
   "cell_type": "code",
   "execution_count": 16,
   "metadata": {},
   "outputs": [],
   "source": [
    "data_test.loc[data_test['application_underwriting_score']<97.8,'application_underwriting_score']=data_test['application_underwriting_score'].quantile(0.25)"
   ]
  },
  {
   "cell_type": "code",
   "execution_count": 17,
   "metadata": {},
   "outputs": [],
   "source": [
    "data.loc[data['Income']>450000,'Income']=data['Income'].quantile(0.75)"
   ]
  },
  {
   "cell_type": "code",
   "execution_count": 18,
   "metadata": {},
   "outputs": [],
   "source": [
    "data_test.loc[data_test['Income']>450000,'Income']=data_test['Income'].quantile(0.75)"
   ]
  },
  {
   "cell_type": "markdown",
   "metadata": {},
   "source": [
    "## Handling missing values"
   ]
  },
  {
   "cell_type": "code",
   "execution_count": 19,
   "metadata": {},
   "outputs": [
    {
     "data": {
      "text/html": [
       "<div>\n",
       "<style scoped>\n",
       "    .dataframe tbody tr th:only-of-type {\n",
       "        vertical-align: middle;\n",
       "    }\n",
       "\n",
       "    .dataframe tbody tr th {\n",
       "        vertical-align: top;\n",
       "    }\n",
       "\n",
       "    .dataframe thead th {\n",
       "        text-align: right;\n",
       "    }\n",
       "</style>\n",
       "<table border=\"1\" class=\"dataframe\">\n",
       "  <thead>\n",
       "    <tr style=\"text-align: right;\">\n",
       "      <th></th>\n",
       "      <th>id</th>\n",
       "      <th>perc_premium_paid_by_cash_credit</th>\n",
       "      <th>age_in_days</th>\n",
       "      <th>Income</th>\n",
       "      <th>Count_3-6_months_late</th>\n",
       "      <th>Count_6-12_months_late</th>\n",
       "      <th>Count_more_than_12_months_late</th>\n",
       "      <th>application_underwriting_score</th>\n",
       "      <th>no_of_premiums_paid</th>\n",
       "      <th>target</th>\n",
       "    </tr>\n",
       "  </thead>\n",
       "  <tbody>\n",
       "    <tr>\n",
       "      <th>count</th>\n",
       "      <td>79853.000000</td>\n",
       "      <td>79853.000000</td>\n",
       "      <td>79853.000000</td>\n",
       "      <td>79853.00000</td>\n",
       "      <td>79756.000000</td>\n",
       "      <td>79756.000000</td>\n",
       "      <td>79756.000000</td>\n",
       "      <td>76879.000000</td>\n",
       "      <td>79853.000000</td>\n",
       "      <td>79853.000000</td>\n",
       "    </tr>\n",
       "    <tr>\n",
       "      <th>mean</th>\n",
       "      <td>57167.166368</td>\n",
       "      <td>0.314288</td>\n",
       "      <td>18835.137966</td>\n",
       "      <td>180861.89373</td>\n",
       "      <td>0.248671</td>\n",
       "      <td>0.078188</td>\n",
       "      <td>0.060008</td>\n",
       "      <td>99.067291</td>\n",
       "      <td>10.863887</td>\n",
       "      <td>0.937410</td>\n",
       "    </tr>\n",
       "    <tr>\n",
       "      <th>std</th>\n",
       "      <td>32928.970160</td>\n",
       "      <td>0.334915</td>\n",
       "      <td>5186.876367</td>\n",
       "      <td>91883.41584</td>\n",
       "      <td>0.691468</td>\n",
       "      <td>0.436507</td>\n",
       "      <td>0.312023</td>\n",
       "      <td>0.739799</td>\n",
       "      <td>5.170687</td>\n",
       "      <td>0.242226</td>\n",
       "    </tr>\n",
       "    <tr>\n",
       "      <th>min</th>\n",
       "      <td>2.000000</td>\n",
       "      <td>0.000000</td>\n",
       "      <td>7670.000000</td>\n",
       "      <td>24030.00000</td>\n",
       "      <td>0.000000</td>\n",
       "      <td>0.000000</td>\n",
       "      <td>0.000000</td>\n",
       "      <td>91.900000</td>\n",
       "      <td>2.000000</td>\n",
       "      <td>0.000000</td>\n",
       "    </tr>\n",
       "    <tr>\n",
       "      <th>25%</th>\n",
       "      <td>28640.000000</td>\n",
       "      <td>0.034000</td>\n",
       "      <td>14974.000000</td>\n",
       "      <td>108010.00000</td>\n",
       "      <td>0.000000</td>\n",
       "      <td>0.000000</td>\n",
       "      <td>0.000000</td>\n",
       "      <td>98.810000</td>\n",
       "      <td>7.000000</td>\n",
       "      <td>1.000000</td>\n",
       "    </tr>\n",
       "    <tr>\n",
       "      <th>50%</th>\n",
       "      <td>57262.000000</td>\n",
       "      <td>0.167000</td>\n",
       "      <td>18625.000000</td>\n",
       "      <td>166560.00000</td>\n",
       "      <td>0.000000</td>\n",
       "      <td>0.000000</td>\n",
       "      <td>0.000000</td>\n",
       "      <td>99.210000</td>\n",
       "      <td>10.000000</td>\n",
       "      <td>1.000000</td>\n",
       "    </tr>\n",
       "    <tr>\n",
       "      <th>75%</th>\n",
       "      <td>85632.000000</td>\n",
       "      <td>0.538000</td>\n",
       "      <td>22636.000000</td>\n",
       "      <td>252090.00000</td>\n",
       "      <td>0.000000</td>\n",
       "      <td>0.000000</td>\n",
       "      <td>0.000000</td>\n",
       "      <td>99.540000</td>\n",
       "      <td>14.000000</td>\n",
       "      <td>1.000000</td>\n",
       "    </tr>\n",
       "    <tr>\n",
       "      <th>max</th>\n",
       "      <td>114076.000000</td>\n",
       "      <td>1.000000</td>\n",
       "      <td>33595.000000</td>\n",
       "      <td>449880.00000</td>\n",
       "      <td>13.000000</td>\n",
       "      <td>17.000000</td>\n",
       "      <td>11.000000</td>\n",
       "      <td>99.890000</td>\n",
       "      <td>60.000000</td>\n",
       "      <td>1.000000</td>\n",
       "    </tr>\n",
       "  </tbody>\n",
       "</table>\n",
       "</div>"
      ],
      "text/plain": [
       "                  id  perc_premium_paid_by_cash_credit   age_in_days  \\\n",
       "count   79853.000000                      79853.000000  79853.000000   \n",
       "mean    57167.166368                          0.314288  18835.137966   \n",
       "std     32928.970160                          0.334915   5186.876367   \n",
       "min         2.000000                          0.000000   7670.000000   \n",
       "25%     28640.000000                          0.034000  14974.000000   \n",
       "50%     57262.000000                          0.167000  18625.000000   \n",
       "75%     85632.000000                          0.538000  22636.000000   \n",
       "max    114076.000000                          1.000000  33595.000000   \n",
       "\n",
       "             Income  Count_3-6_months_late  Count_6-12_months_late  \\\n",
       "count   79853.00000           79756.000000            79756.000000   \n",
       "mean   180861.89373               0.248671                0.078188   \n",
       "std     91883.41584               0.691468                0.436507   \n",
       "min     24030.00000               0.000000                0.000000   \n",
       "25%    108010.00000               0.000000                0.000000   \n",
       "50%    166560.00000               0.000000                0.000000   \n",
       "75%    252090.00000               0.000000                0.000000   \n",
       "max    449880.00000              13.000000               17.000000   \n",
       "\n",
       "       Count_more_than_12_months_late  application_underwriting_score  \\\n",
       "count                    79756.000000                    76879.000000   \n",
       "mean                         0.060008                       99.067291   \n",
       "std                          0.312023                        0.739799   \n",
       "min                          0.000000                       91.900000   \n",
       "25%                          0.000000                       98.810000   \n",
       "50%                          0.000000                       99.210000   \n",
       "75%                          0.000000                       99.540000   \n",
       "max                         11.000000                       99.890000   \n",
       "\n",
       "       no_of_premiums_paid        target  \n",
       "count         79853.000000  79853.000000  \n",
       "mean             10.863887      0.937410  \n",
       "std               5.170687      0.242226  \n",
       "min               2.000000      0.000000  \n",
       "25%               7.000000      1.000000  \n",
       "50%              10.000000      1.000000  \n",
       "75%              14.000000      1.000000  \n",
       "max              60.000000      1.000000  "
      ]
     },
     "execution_count": 19,
     "metadata": {},
     "output_type": "execute_result"
    }
   ],
   "source": [
    "data.describe()"
   ]
  },
  {
   "cell_type": "code",
   "execution_count": 20,
   "metadata": {},
   "outputs": [
    {
     "data": {
      "text/html": [
       "<div>\n",
       "<style scoped>\n",
       "    .dataframe tbody tr th:only-of-type {\n",
       "        vertical-align: middle;\n",
       "    }\n",
       "\n",
       "    .dataframe tbody tr th {\n",
       "        vertical-align: top;\n",
       "    }\n",
       "\n",
       "    .dataframe thead th {\n",
       "        text-align: right;\n",
       "    }\n",
       "</style>\n",
       "<table border=\"1\" class=\"dataframe\">\n",
       "  <thead>\n",
       "    <tr style=\"text-align: right;\">\n",
       "      <th></th>\n",
       "      <th>id</th>\n",
       "      <th>perc_premium_paid_by_cash_credit</th>\n",
       "      <th>age_in_days</th>\n",
       "      <th>Income</th>\n",
       "      <th>Count_3-6_months_late</th>\n",
       "      <th>Count_6-12_months_late</th>\n",
       "      <th>Count_more_than_12_months_late</th>\n",
       "      <th>application_underwriting_score</th>\n",
       "      <th>no_of_premiums_paid</th>\n",
       "    </tr>\n",
       "  </thead>\n",
       "  <tbody>\n",
       "    <tr>\n",
       "      <th>count</th>\n",
       "      <td>34224.000000</td>\n",
       "      <td>34224.000000</td>\n",
       "      <td>34224.000000</td>\n",
       "      <td>34224.000000</td>\n",
       "      <td>34193.000000</td>\n",
       "      <td>34193.000000</td>\n",
       "      <td>34193.000000</td>\n",
       "      <td>32901.000000</td>\n",
       "      <td>34224.000000</td>\n",
       "    </tr>\n",
       "    <tr>\n",
       "      <th>mean</th>\n",
       "      <td>56739.956376</td>\n",
       "      <td>0.314457</td>\n",
       "      <td>18812.821470</td>\n",
       "      <td>179752.955820</td>\n",
       "      <td>0.238733</td>\n",
       "      <td>0.080718</td>\n",
       "      <td>0.058111</td>\n",
       "      <td>99.162865</td>\n",
       "      <td>10.890428</td>\n",
       "    </tr>\n",
       "    <tr>\n",
       "      <th>std</th>\n",
       "      <td>32935.402647</td>\n",
       "      <td>0.334059</td>\n",
       "      <td>5225.330517</td>\n",
       "      <td>91907.627516</td>\n",
       "      <td>0.686162</td>\n",
       "      <td>0.454634</td>\n",
       "      <td>0.307046</td>\n",
       "      <td>0.476690</td>\n",
       "      <td>5.216867</td>\n",
       "    </tr>\n",
       "    <tr>\n",
       "      <th>min</th>\n",
       "      <td>1.000000</td>\n",
       "      <td>0.000000</td>\n",
       "      <td>7671.000000</td>\n",
       "      <td>24030.000000</td>\n",
       "      <td>0.000000</td>\n",
       "      <td>0.000000</td>\n",
       "      <td>0.000000</td>\n",
       "      <td>97.800000</td>\n",
       "      <td>2.000000</td>\n",
       "    </tr>\n",
       "    <tr>\n",
       "      <th>25%</th>\n",
       "      <td>28254.750000</td>\n",
       "      <td>0.034000</td>\n",
       "      <td>14972.000000</td>\n",
       "      <td>106397.500000</td>\n",
       "      <td>0.000000</td>\n",
       "      <td>0.000000</td>\n",
       "      <td>0.000000</td>\n",
       "      <td>98.800000</td>\n",
       "      <td>7.000000</td>\n",
       "    </tr>\n",
       "    <tr>\n",
       "      <th>50%</th>\n",
       "      <td>56488.000000</td>\n",
       "      <td>0.169000</td>\n",
       "      <td>18623.000000</td>\n",
       "      <td>165070.000000</td>\n",
       "      <td>0.000000</td>\n",
       "      <td>0.000000</td>\n",
       "      <td>0.000000</td>\n",
       "      <td>99.210000</td>\n",
       "      <td>10.000000</td>\n",
       "    </tr>\n",
       "    <tr>\n",
       "      <th>75%</th>\n",
       "      <td>85386.250000</td>\n",
       "      <td>0.540000</td>\n",
       "      <td>22636.000000</td>\n",
       "      <td>250020.000000</td>\n",
       "      <td>0.000000</td>\n",
       "      <td>0.000000</td>\n",
       "      <td>0.000000</td>\n",
       "      <td>99.530000</td>\n",
       "      <td>14.000000</td>\n",
       "    </tr>\n",
       "    <tr>\n",
       "      <th>max</th>\n",
       "      <td>114077.000000</td>\n",
       "      <td>1.000000</td>\n",
       "      <td>33595.000000</td>\n",
       "      <td>450000.000000</td>\n",
       "      <td>12.000000</td>\n",
       "      <td>10.000000</td>\n",
       "      <td>7.000000</td>\n",
       "      <td>99.890000</td>\n",
       "      <td>59.000000</td>\n",
       "    </tr>\n",
       "  </tbody>\n",
       "</table>\n",
       "</div>"
      ],
      "text/plain": [
       "                  id  perc_premium_paid_by_cash_credit   age_in_days  \\\n",
       "count   34224.000000                      34224.000000  34224.000000   \n",
       "mean    56739.956376                          0.314457  18812.821470   \n",
       "std     32935.402647                          0.334059   5225.330517   \n",
       "min         1.000000                          0.000000   7671.000000   \n",
       "25%     28254.750000                          0.034000  14972.000000   \n",
       "50%     56488.000000                          0.169000  18623.000000   \n",
       "75%     85386.250000                          0.540000  22636.000000   \n",
       "max    114077.000000                          1.000000  33595.000000   \n",
       "\n",
       "              Income  Count_3-6_months_late  Count_6-12_months_late  \\\n",
       "count   34224.000000           34193.000000            34193.000000   \n",
       "mean   179752.955820               0.238733                0.080718   \n",
       "std     91907.627516               0.686162                0.454634   \n",
       "min     24030.000000               0.000000                0.000000   \n",
       "25%    106397.500000               0.000000                0.000000   \n",
       "50%    165070.000000               0.000000                0.000000   \n",
       "75%    250020.000000               0.000000                0.000000   \n",
       "max    450000.000000              12.000000               10.000000   \n",
       "\n",
       "       Count_more_than_12_months_late  application_underwriting_score  \\\n",
       "count                    34193.000000                    32901.000000   \n",
       "mean                         0.058111                       99.162865   \n",
       "std                          0.307046                        0.476690   \n",
       "min                          0.000000                       97.800000   \n",
       "25%                          0.000000                       98.800000   \n",
       "50%                          0.000000                       99.210000   \n",
       "75%                          0.000000                       99.530000   \n",
       "max                          7.000000                       99.890000   \n",
       "\n",
       "       no_of_premiums_paid  \n",
       "count         34224.000000  \n",
       "mean             10.890428  \n",
       "std               5.216867  \n",
       "min               2.000000  \n",
       "25%               7.000000  \n",
       "50%              10.000000  \n",
       "75%              14.000000  \n",
       "max              59.000000  "
      ]
     },
     "execution_count": 20,
     "metadata": {},
     "output_type": "execute_result"
    }
   ],
   "source": [
    "data_test.describe()"
   ]
  },
  {
   "cell_type": "code",
   "execution_count": 21,
   "metadata": {},
   "outputs": [
    {
     "data": {
      "text/plain": [
       "id                                     0\n",
       "perc_premium_paid_by_cash_credit       0\n",
       "age_in_days                            0\n",
       "Income                                 0\n",
       "Count_3-6_months_late                 97\n",
       "Count_6-12_months_late                97\n",
       "Count_more_than_12_months_late        97\n",
       "application_underwriting_score      2974\n",
       "no_of_premiums_paid                    0\n",
       "sourcing_channel                       0\n",
       "residence_area_type                    0\n",
       "target                                 0\n",
       "dtype: int64"
      ]
     },
     "execution_count": 21,
     "metadata": {},
     "output_type": "execute_result"
    }
   ],
   "source": [
    "data.isnull().sum()"
   ]
  },
  {
   "cell_type": "code",
   "execution_count": 22,
   "metadata": {},
   "outputs": [],
   "source": [
    "#data = data.dropna(how='any', subset=['Count_3-6_months_late', 'Count_6-12_months_late','Count_more_than_12_months_late'])\n",
    "data['Count_3-6_months_late'] = data['Count_3-6_months_late'].replace(np.nan, 0)\n",
    "data['Count_6-12_months_late'] = data['Count_6-12_months_late'].replace(np.nan, 0)\n",
    "data['Count_more_than_12_months_late'] = data['Count_more_than_12_months_late'].replace(np.nan, 0)"
   ]
  },
  {
   "cell_type": "code",
   "execution_count": 23,
   "metadata": {},
   "outputs": [],
   "source": [
    "#data_test= data_test.dropna(how='any', subset=['Count_3-6_months_late', 'Count_6-12_months_late','Count_more_than_12_months_late'])\n",
    "data_test['Count_3-6_months_late'] = data_test['Count_3-6_months_late'].replace(np.nan, 0)\n",
    "data_test['Count_6-12_months_late'] = data_test['Count_6-12_months_late'].replace(np.nan, 0)\n",
    "data_test['Count_more_than_12_months_late'] = data_test['Count_more_than_12_months_late'].replace(np.nan, 0)"
   ]
  },
  {
   "cell_type": "markdown",
   "metadata": {},
   "source": [
    "#treating the missing values in application_underwriting_score"
   ]
  },
  {
   "cell_type": "code",
   "execution_count": 24,
   "metadata": {},
   "outputs": [],
   "source": [
    "data.fillna(data[\"application_underwriting_score\"].mean(), inplace = True)\n",
    "data_test.fillna(data_test[\"application_underwriting_score\"].mean(), inplace = True) "
   ]
  },
  {
   "cell_type": "markdown",
   "metadata": {},
   "source": [
    "## Encoding catagorical features "
   ]
  },
  {
   "cell_type": "code",
   "execution_count": 25,
   "metadata": {},
   "outputs": [
    {
     "data": {
      "text/plain": [
       "A    18672\n",
       "B     6923\n",
       "C     5146\n",
       "D     3222\n",
       "E      261\n",
       "Name: sourcing_channel, dtype: int64"
      ]
     },
     "execution_count": 25,
     "metadata": {},
     "output_type": "execute_result"
    }
   ],
   "source": [
    "data_test['sourcing_channel'].value_counts()"
   ]
  },
  {
   "cell_type": "code",
   "execution_count": 26,
   "metadata": {},
   "outputs": [
    {
     "data": {
      "text/plain": [
       "pandas.core.frame.DataFrame"
      ]
     },
     "execution_count": 26,
     "metadata": {},
     "output_type": "execute_result"
    }
   ],
   "source": [
    "data_tr=data.copy()\n",
    "type(data_tr)"
   ]
  },
  {
   "cell_type": "code",
   "execution_count": 27,
   "metadata": {},
   "outputs": [
    {
     "data": {
      "text/plain": [
       "array([1, 0])"
      ]
     },
     "execution_count": 27,
     "metadata": {},
     "output_type": "execute_result"
    }
   ],
   "source": [
    "# Import label encoder \n",
    "from sklearn import preprocessing \n",
    "  \n",
    "# label_encoder object knows how to understand word labels. \n",
    "label_encoder = preprocessing.LabelEncoder() \n",
    "  \n",
    "# Encode labels in column 'species'. \n",
    "data_tr['residence_area_type']= label_encoder.fit_transform(data_tr['residence_area_type']) \n",
    "  \n",
    "data_tr['residence_area_type'].unique() "
   ]
  },
  {
   "cell_type": "code",
   "execution_count": 28,
   "metadata": {},
   "outputs": [],
   "source": [
    "data_test['residence_area_type']=label_encoder.transform(data_test['residence_area_type']) "
   ]
  },
  {
   "cell_type": "code",
   "execution_count": 29,
   "metadata": {},
   "outputs": [
    {
     "data": {
      "text/html": [
       "<div>\n",
       "<style scoped>\n",
       "    .dataframe tbody tr th:only-of-type {\n",
       "        vertical-align: middle;\n",
       "    }\n",
       "\n",
       "    .dataframe tbody tr th {\n",
       "        vertical-align: top;\n",
       "    }\n",
       "\n",
       "    .dataframe thead th {\n",
       "        text-align: right;\n",
       "    }\n",
       "</style>\n",
       "<table border=\"1\" class=\"dataframe\">\n",
       "  <thead>\n",
       "    <tr style=\"text-align: right;\">\n",
       "      <th></th>\n",
       "      <th>id</th>\n",
       "      <th>perc_premium_paid_by_cash_credit</th>\n",
       "      <th>age_in_days</th>\n",
       "      <th>Income</th>\n",
       "      <th>Count_3-6_months_late</th>\n",
       "      <th>Count_6-12_months_late</th>\n",
       "      <th>Count_more_than_12_months_late</th>\n",
       "      <th>application_underwriting_score</th>\n",
       "      <th>no_of_premiums_paid</th>\n",
       "      <th>sourcing_channel</th>\n",
       "      <th>residence_area_type</th>\n",
       "    </tr>\n",
       "  </thead>\n",
       "  <tbody>\n",
       "    <tr>\n",
       "      <th>0</th>\n",
       "      <td>649</td>\n",
       "      <td>0.001</td>\n",
       "      <td>27384.0</td>\n",
       "      <td>51150.0</td>\n",
       "      <td>0.0</td>\n",
       "      <td>0.0</td>\n",
       "      <td>0.0</td>\n",
       "      <td>99.890000</td>\n",
       "      <td>7</td>\n",
       "      <td>A</td>\n",
       "      <td>0</td>\n",
       "    </tr>\n",
       "    <tr>\n",
       "      <th>1</th>\n",
       "      <td>81136</td>\n",
       "      <td>0.124</td>\n",
       "      <td>23735.0</td>\n",
       "      <td>285140.0</td>\n",
       "      <td>0.0</td>\n",
       "      <td>0.0</td>\n",
       "      <td>0.0</td>\n",
       "      <td>98.930000</td>\n",
       "      <td>19</td>\n",
       "      <td>A</td>\n",
       "      <td>1</td>\n",
       "    </tr>\n",
       "    <tr>\n",
       "      <th>2</th>\n",
       "      <td>70762</td>\n",
       "      <td>1.000</td>\n",
       "      <td>17170.0</td>\n",
       "      <td>186030.0</td>\n",
       "      <td>0.0</td>\n",
       "      <td>0.0</td>\n",
       "      <td>0.0</td>\n",
       "      <td>99.162865</td>\n",
       "      <td>2</td>\n",
       "      <td>B</td>\n",
       "      <td>1</td>\n",
       "    </tr>\n",
       "    <tr>\n",
       "      <th>3</th>\n",
       "      <td>53935</td>\n",
       "      <td>0.198</td>\n",
       "      <td>16068.0</td>\n",
       "      <td>123540.0</td>\n",
       "      <td>0.0</td>\n",
       "      <td>0.0</td>\n",
       "      <td>0.0</td>\n",
       "      <td>99.000000</td>\n",
       "      <td>11</td>\n",
       "      <td>B</td>\n",
       "      <td>0</td>\n",
       "    </tr>\n",
       "    <tr>\n",
       "      <th>4</th>\n",
       "      <td>15476</td>\n",
       "      <td>0.041</td>\n",
       "      <td>10591.0</td>\n",
       "      <td>200020.0</td>\n",
       "      <td>1.0</td>\n",
       "      <td>0.0</td>\n",
       "      <td>0.0</td>\n",
       "      <td>99.170000</td>\n",
       "      <td>14</td>\n",
       "      <td>A</td>\n",
       "      <td>0</td>\n",
       "    </tr>\n",
       "    <tr>\n",
       "      <th>5</th>\n",
       "      <td>64797</td>\n",
       "      <td>0.112</td>\n",
       "      <td>16065.0</td>\n",
       "      <td>245130.0</td>\n",
       "      <td>0.0</td>\n",
       "      <td>0.0</td>\n",
       "      <td>0.0</td>\n",
       "      <td>98.880000</td>\n",
       "      <td>7</td>\n",
       "      <td>B</td>\n",
       "      <td>0</td>\n",
       "    </tr>\n",
       "    <tr>\n",
       "      <th>6</th>\n",
       "      <td>67412</td>\n",
       "      <td>0.325</td>\n",
       "      <td>17167.0</td>\n",
       "      <td>388050.0</td>\n",
       "      <td>6.0</td>\n",
       "      <td>0.0</td>\n",
       "      <td>0.0</td>\n",
       "      <td>99.000000</td>\n",
       "      <td>27</td>\n",
       "      <td>C</td>\n",
       "      <td>1</td>\n",
       "    </tr>\n",
       "    <tr>\n",
       "      <th>7</th>\n",
       "      <td>44241</td>\n",
       "      <td>0.362</td>\n",
       "      <td>20085.0</td>\n",
       "      <td>99880.0</td>\n",
       "      <td>3.0</td>\n",
       "      <td>0.0</td>\n",
       "      <td>0.0</td>\n",
       "      <td>98.400000</td>\n",
       "      <td>14</td>\n",
       "      <td>A</td>\n",
       "      <td>1</td>\n",
       "    </tr>\n",
       "    <tr>\n",
       "      <th>8</th>\n",
       "      <td>5069</td>\n",
       "      <td>0.115</td>\n",
       "      <td>23008.0</td>\n",
       "      <td>360040.0</td>\n",
       "      <td>0.0</td>\n",
       "      <td>0.0</td>\n",
       "      <td>0.0</td>\n",
       "      <td>99.880000</td>\n",
       "      <td>6</td>\n",
       "      <td>D</td>\n",
       "      <td>0</td>\n",
       "    </tr>\n",
       "    <tr>\n",
       "      <th>9</th>\n",
       "      <td>16615</td>\n",
       "      <td>0.021</td>\n",
       "      <td>21906.0</td>\n",
       "      <td>250020.0</td>\n",
       "      <td>0.0</td>\n",
       "      <td>0.0</td>\n",
       "      <td>0.0</td>\n",
       "      <td>99.890000</td>\n",
       "      <td>11</td>\n",
       "      <td>B</td>\n",
       "      <td>1</td>\n",
       "    </tr>\n",
       "  </tbody>\n",
       "</table>\n",
       "</div>"
      ],
      "text/plain": [
       "      id  perc_premium_paid_by_cash_credit  age_in_days    Income  \\\n",
       "0    649                             0.001      27384.0   51150.0   \n",
       "1  81136                             0.124      23735.0  285140.0   \n",
       "2  70762                             1.000      17170.0  186030.0   \n",
       "3  53935                             0.198      16068.0  123540.0   \n",
       "4  15476                             0.041      10591.0  200020.0   \n",
       "5  64797                             0.112      16065.0  245130.0   \n",
       "6  67412                             0.325      17167.0  388050.0   \n",
       "7  44241                             0.362      20085.0   99880.0   \n",
       "8   5069                             0.115      23008.0  360040.0   \n",
       "9  16615                             0.021      21906.0  250020.0   \n",
       "\n",
       "   Count_3-6_months_late  Count_6-12_months_late  \\\n",
       "0                    0.0                     0.0   \n",
       "1                    0.0                     0.0   \n",
       "2                    0.0                     0.0   \n",
       "3                    0.0                     0.0   \n",
       "4                    1.0                     0.0   \n",
       "5                    0.0                     0.0   \n",
       "6                    6.0                     0.0   \n",
       "7                    3.0                     0.0   \n",
       "8                    0.0                     0.0   \n",
       "9                    0.0                     0.0   \n",
       "\n",
       "   Count_more_than_12_months_late  application_underwriting_score  \\\n",
       "0                             0.0                       99.890000   \n",
       "1                             0.0                       98.930000   \n",
       "2                             0.0                       99.162865   \n",
       "3                             0.0                       99.000000   \n",
       "4                             0.0                       99.170000   \n",
       "5                             0.0                       98.880000   \n",
       "6                             0.0                       99.000000   \n",
       "7                             0.0                       98.400000   \n",
       "8                             0.0                       99.880000   \n",
       "9                             0.0                       99.890000   \n",
       "\n",
       "   no_of_premiums_paid sourcing_channel  residence_area_type  \n",
       "0                    7                A                    0  \n",
       "1                   19                A                    1  \n",
       "2                    2                B                    1  \n",
       "3                   11                B                    0  \n",
       "4                   14                A                    0  \n",
       "5                    7                B                    0  \n",
       "6                   27                C                    1  \n",
       "7                   14                A                    1  \n",
       "8                    6                D                    0  \n",
       "9                   11                B                    1  "
      ]
     },
     "execution_count": 29,
     "metadata": {},
     "output_type": "execute_result"
    }
   ],
   "source": [
    "data_test.head(10)"
   ]
  },
  {
   "cell_type": "markdown",
   "metadata": {},
   "source": [
    "#combine the data if all the late payments under one column\n",
    "#Count_more_than_12_months_late is worse than Count_6-12_months_late is inturn worse than Count_3-6_months_late \n",
    "#As later the payment was made, the more disadvantageous it is to the insurance company"
   ]
  },
  {
   "cell_type": "code",
   "execution_count": 30,
   "metadata": {},
   "outputs": [],
   "source": [
    "data_tr['count']=data_tr['Count_3-6_months_late']+(3*data_tr['Count_6-12_months_late'])+(4*data_tr['Count_more_than_12_months_late'])"
   ]
  },
  {
   "cell_type": "code",
   "execution_count": 31,
   "metadata": {},
   "outputs": [],
   "source": [
    "data_test['count']=data_test['Count_3-6_months_late']+(3*data_test['Count_6-12_months_late'])+(4*data_test['Count_more_than_12_months_late'])"
   ]
  },
  {
   "cell_type": "code",
   "execution_count": 32,
   "metadata": {},
   "outputs": [
    {
     "data": {
      "text/html": [
       "<div>\n",
       "<style scoped>\n",
       "    .dataframe tbody tr th:only-of-type {\n",
       "        vertical-align: middle;\n",
       "    }\n",
       "\n",
       "    .dataframe tbody tr th {\n",
       "        vertical-align: top;\n",
       "    }\n",
       "\n",
       "    .dataframe thead th {\n",
       "        text-align: right;\n",
       "    }\n",
       "</style>\n",
       "<table border=\"1\" class=\"dataframe\">\n",
       "  <thead>\n",
       "    <tr style=\"text-align: right;\">\n",
       "      <th></th>\n",
       "      <th>id</th>\n",
       "      <th>perc_premium_paid_by_cash_credit</th>\n",
       "      <th>age_in_days</th>\n",
       "      <th>Income</th>\n",
       "      <th>Count_3-6_months_late</th>\n",
       "      <th>Count_6-12_months_late</th>\n",
       "      <th>Count_more_than_12_months_late</th>\n",
       "      <th>application_underwriting_score</th>\n",
       "      <th>no_of_premiums_paid</th>\n",
       "      <th>sourcing_channel</th>\n",
       "      <th>residence_area_type</th>\n",
       "      <th>target</th>\n",
       "      <th>count</th>\n",
       "    </tr>\n",
       "  </thead>\n",
       "  <tbody>\n",
       "    <tr>\n",
       "      <th>0</th>\n",
       "      <td>110936</td>\n",
       "      <td>0.429</td>\n",
       "      <td>12058.0</td>\n",
       "      <td>355060.0</td>\n",
       "      <td>0.0</td>\n",
       "      <td>0.0</td>\n",
       "      <td>0.0</td>\n",
       "      <td>99.02</td>\n",
       "      <td>13</td>\n",
       "      <td>C</td>\n",
       "      <td>1</td>\n",
       "      <td>1</td>\n",
       "      <td>0.0</td>\n",
       "    </tr>\n",
       "    <tr>\n",
       "      <th>1</th>\n",
       "      <td>41492</td>\n",
       "      <td>0.010</td>\n",
       "      <td>21546.0</td>\n",
       "      <td>315150.0</td>\n",
       "      <td>0.0</td>\n",
       "      <td>0.0</td>\n",
       "      <td>0.0</td>\n",
       "      <td>99.89</td>\n",
       "      <td>21</td>\n",
       "      <td>A</td>\n",
       "      <td>1</td>\n",
       "      <td>1</td>\n",
       "      <td>0.0</td>\n",
       "    </tr>\n",
       "    <tr>\n",
       "      <th>2</th>\n",
       "      <td>31300</td>\n",
       "      <td>0.917</td>\n",
       "      <td>17531.0</td>\n",
       "      <td>84140.0</td>\n",
       "      <td>2.0</td>\n",
       "      <td>3.0</td>\n",
       "      <td>1.0</td>\n",
       "      <td>98.69</td>\n",
       "      <td>7</td>\n",
       "      <td>C</td>\n",
       "      <td>0</td>\n",
       "      <td>0</td>\n",
       "      <td>15.0</td>\n",
       "    </tr>\n",
       "    <tr>\n",
       "      <th>3</th>\n",
       "      <td>19415</td>\n",
       "      <td>0.049</td>\n",
       "      <td>15341.0</td>\n",
       "      <td>250510.0</td>\n",
       "      <td>0.0</td>\n",
       "      <td>0.0</td>\n",
       "      <td>0.0</td>\n",
       "      <td>99.57</td>\n",
       "      <td>9</td>\n",
       "      <td>A</td>\n",
       "      <td>1</td>\n",
       "      <td>1</td>\n",
       "      <td>0.0</td>\n",
       "    </tr>\n",
       "    <tr>\n",
       "      <th>4</th>\n",
       "      <td>99379</td>\n",
       "      <td>0.052</td>\n",
       "      <td>31400.0</td>\n",
       "      <td>198680.0</td>\n",
       "      <td>0.0</td>\n",
       "      <td>0.0</td>\n",
       "      <td>0.0</td>\n",
       "      <td>99.87</td>\n",
       "      <td>12</td>\n",
       "      <td>B</td>\n",
       "      <td>1</td>\n",
       "      <td>1</td>\n",
       "      <td>0.0</td>\n",
       "    </tr>\n",
       "  </tbody>\n",
       "</table>\n",
       "</div>"
      ],
      "text/plain": [
       "       id  perc_premium_paid_by_cash_credit  age_in_days    Income  \\\n",
       "0  110936                             0.429      12058.0  355060.0   \n",
       "1   41492                             0.010      21546.0  315150.0   \n",
       "2   31300                             0.917      17531.0   84140.0   \n",
       "3   19415                             0.049      15341.0  250510.0   \n",
       "4   99379                             0.052      31400.0  198680.0   \n",
       "\n",
       "   Count_3-6_months_late  Count_6-12_months_late  \\\n",
       "0                    0.0                     0.0   \n",
       "1                    0.0                     0.0   \n",
       "2                    2.0                     3.0   \n",
       "3                    0.0                     0.0   \n",
       "4                    0.0                     0.0   \n",
       "\n",
       "   Count_more_than_12_months_late  application_underwriting_score  \\\n",
       "0                             0.0                           99.02   \n",
       "1                             0.0                           99.89   \n",
       "2                             1.0                           98.69   \n",
       "3                             0.0                           99.57   \n",
       "4                             0.0                           99.87   \n",
       "\n",
       "   no_of_premiums_paid sourcing_channel  residence_area_type  target  count  \n",
       "0                   13                C                    1       1    0.0  \n",
       "1                   21                A                    1       1    0.0  \n",
       "2                    7                C                    0       0   15.0  \n",
       "3                    9                A                    1       1    0.0  \n",
       "4                   12                B                    1       1    0.0  "
      ]
     },
     "execution_count": 32,
     "metadata": {},
     "output_type": "execute_result"
    }
   ],
   "source": [
    "data_tr.head()"
   ]
  },
  {
   "cell_type": "code",
   "execution_count": 33,
   "metadata": {},
   "outputs": [],
   "source": [
    "#For the column sourcing_channel, I will replace the values with the frequency of the same. \n",
    "#I think that replacing values with its frequency would be effective for this particular column.\n",
    "\n",
    "#calculate the frequency of each value in the column and store it in a dictionary\n",
    "freq_map_train=data_tr.sourcing_channel.value_counts().to_dict()\n",
    "freq_map_test=data_test.sourcing_channel.value_counts().to_dict()"
   ]
  },
  {
   "cell_type": "code",
   "execution_count": 34,
   "metadata": {},
   "outputs": [
    {
     "data": {
      "text/html": [
       "<div>\n",
       "<style scoped>\n",
       "    .dataframe tbody tr th:only-of-type {\n",
       "        vertical-align: middle;\n",
       "    }\n",
       "\n",
       "    .dataframe tbody tr th {\n",
       "        vertical-align: top;\n",
       "    }\n",
       "\n",
       "    .dataframe thead th {\n",
       "        text-align: right;\n",
       "    }\n",
       "</style>\n",
       "<table border=\"1\" class=\"dataframe\">\n",
       "  <thead>\n",
       "    <tr style=\"text-align: right;\">\n",
       "      <th></th>\n",
       "      <th>id</th>\n",
       "      <th>perc_premium_paid_by_cash_credit</th>\n",
       "      <th>age_in_days</th>\n",
       "      <th>Income</th>\n",
       "      <th>Count_3-6_months_late</th>\n",
       "      <th>Count_6-12_months_late</th>\n",
       "      <th>Count_more_than_12_months_late</th>\n",
       "      <th>application_underwriting_score</th>\n",
       "      <th>no_of_premiums_paid</th>\n",
       "      <th>sourcing_channel</th>\n",
       "      <th>residence_area_type</th>\n",
       "      <th>count</th>\n",
       "    </tr>\n",
       "  </thead>\n",
       "  <tbody>\n",
       "    <tr>\n",
       "      <th>0</th>\n",
       "      <td>649</td>\n",
       "      <td>0.001</td>\n",
       "      <td>27384.0</td>\n",
       "      <td>51150.0</td>\n",
       "      <td>0.0</td>\n",
       "      <td>0.0</td>\n",
       "      <td>0.0</td>\n",
       "      <td>99.890000</td>\n",
       "      <td>7</td>\n",
       "      <td>18672</td>\n",
       "      <td>0</td>\n",
       "      <td>0.0</td>\n",
       "    </tr>\n",
       "    <tr>\n",
       "      <th>1</th>\n",
       "      <td>81136</td>\n",
       "      <td>0.124</td>\n",
       "      <td>23735.0</td>\n",
       "      <td>285140.0</td>\n",
       "      <td>0.0</td>\n",
       "      <td>0.0</td>\n",
       "      <td>0.0</td>\n",
       "      <td>98.930000</td>\n",
       "      <td>19</td>\n",
       "      <td>18672</td>\n",
       "      <td>1</td>\n",
       "      <td>0.0</td>\n",
       "    </tr>\n",
       "    <tr>\n",
       "      <th>2</th>\n",
       "      <td>70762</td>\n",
       "      <td>1.000</td>\n",
       "      <td>17170.0</td>\n",
       "      <td>186030.0</td>\n",
       "      <td>0.0</td>\n",
       "      <td>0.0</td>\n",
       "      <td>0.0</td>\n",
       "      <td>99.162865</td>\n",
       "      <td>2</td>\n",
       "      <td>6923</td>\n",
       "      <td>1</td>\n",
       "      <td>0.0</td>\n",
       "    </tr>\n",
       "    <tr>\n",
       "      <th>3</th>\n",
       "      <td>53935</td>\n",
       "      <td>0.198</td>\n",
       "      <td>16068.0</td>\n",
       "      <td>123540.0</td>\n",
       "      <td>0.0</td>\n",
       "      <td>0.0</td>\n",
       "      <td>0.0</td>\n",
       "      <td>99.000000</td>\n",
       "      <td>11</td>\n",
       "      <td>6923</td>\n",
       "      <td>0</td>\n",
       "      <td>0.0</td>\n",
       "    </tr>\n",
       "    <tr>\n",
       "      <th>4</th>\n",
       "      <td>15476</td>\n",
       "      <td>0.041</td>\n",
       "      <td>10591.0</td>\n",
       "      <td>200020.0</td>\n",
       "      <td>1.0</td>\n",
       "      <td>0.0</td>\n",
       "      <td>0.0</td>\n",
       "      <td>99.170000</td>\n",
       "      <td>14</td>\n",
       "      <td>18672</td>\n",
       "      <td>0</td>\n",
       "      <td>1.0</td>\n",
       "    </tr>\n",
       "  </tbody>\n",
       "</table>\n",
       "</div>"
      ],
      "text/plain": [
       "      id  perc_premium_paid_by_cash_credit  age_in_days    Income  \\\n",
       "0    649                             0.001      27384.0   51150.0   \n",
       "1  81136                             0.124      23735.0  285140.0   \n",
       "2  70762                             1.000      17170.0  186030.0   \n",
       "3  53935                             0.198      16068.0  123540.0   \n",
       "4  15476                             0.041      10591.0  200020.0   \n",
       "\n",
       "   Count_3-6_months_late  Count_6-12_months_late  \\\n",
       "0                    0.0                     0.0   \n",
       "1                    0.0                     0.0   \n",
       "2                    0.0                     0.0   \n",
       "3                    0.0                     0.0   \n",
       "4                    1.0                     0.0   \n",
       "\n",
       "   Count_more_than_12_months_late  application_underwriting_score  \\\n",
       "0                             0.0                       99.890000   \n",
       "1                             0.0                       98.930000   \n",
       "2                             0.0                       99.162865   \n",
       "3                             0.0                       99.000000   \n",
       "4                             0.0                       99.170000   \n",
       "\n",
       "   no_of_premiums_paid  sourcing_channel  residence_area_type  count  \n",
       "0                    7             18672                    0    0.0  \n",
       "1                   19             18672                    1    0.0  \n",
       "2                    2              6923                    1    0.0  \n",
       "3                   11              6923                    0    0.0  \n",
       "4                   14             18672                    0    1.0  "
      ]
     },
     "execution_count": 34,
     "metadata": {},
     "output_type": "execute_result"
    }
   ],
   "source": [
    "#map those frequencies to the respective values in the column \n",
    "data_tr.sourcing_channel=data_tr.sourcing_channel.map(freq_map_train)\n",
    "data_test.sourcing_channel=data_test.sourcing_channel.map(freq_map_test)\n",
    "data_test.head()"
   ]
  },
  {
   "cell_type": "code",
   "execution_count": 35,
   "metadata": {},
   "outputs": [
    {
     "data": {
      "text/html": [
       "<div>\n",
       "<style scoped>\n",
       "    .dataframe tbody tr th:only-of-type {\n",
       "        vertical-align: middle;\n",
       "    }\n",
       "\n",
       "    .dataframe tbody tr th {\n",
       "        vertical-align: top;\n",
       "    }\n",
       "\n",
       "    .dataframe thead th {\n",
       "        text-align: right;\n",
       "    }\n",
       "</style>\n",
       "<table border=\"1\" class=\"dataframe\">\n",
       "  <thead>\n",
       "    <tr style=\"text-align: right;\">\n",
       "      <th></th>\n",
       "      <th>id</th>\n",
       "      <th>perc_premium_paid_by_cash_credit</th>\n",
       "      <th>age_in_days</th>\n",
       "      <th>Income</th>\n",
       "      <th>Count_3-6_months_late</th>\n",
       "      <th>Count_6-12_months_late</th>\n",
       "      <th>Count_more_than_12_months_late</th>\n",
       "      <th>application_underwriting_score</th>\n",
       "      <th>no_of_premiums_paid</th>\n",
       "      <th>sourcing_channel</th>\n",
       "      <th>residence_area_type</th>\n",
       "      <th>target</th>\n",
       "      <th>count</th>\n",
       "    </tr>\n",
       "  </thead>\n",
       "  <tbody>\n",
       "    <tr>\n",
       "      <th>0</th>\n",
       "      <td>110936</td>\n",
       "      <td>0.429</td>\n",
       "      <td>12058.0</td>\n",
       "      <td>355060.0</td>\n",
       "      <td>0.0</td>\n",
       "      <td>0.0</td>\n",
       "      <td>0.0</td>\n",
       "      <td>99.02</td>\n",
       "      <td>13</td>\n",
       "      <td>12039</td>\n",
       "      <td>1</td>\n",
       "      <td>1</td>\n",
       "      <td>0.0</td>\n",
       "    </tr>\n",
       "    <tr>\n",
       "      <th>1</th>\n",
       "      <td>41492</td>\n",
       "      <td>0.010</td>\n",
       "      <td>21546.0</td>\n",
       "      <td>315150.0</td>\n",
       "      <td>0.0</td>\n",
       "      <td>0.0</td>\n",
       "      <td>0.0</td>\n",
       "      <td>99.89</td>\n",
       "      <td>21</td>\n",
       "      <td>43134</td>\n",
       "      <td>1</td>\n",
       "      <td>1</td>\n",
       "      <td>0.0</td>\n",
       "    </tr>\n",
       "    <tr>\n",
       "      <th>2</th>\n",
       "      <td>31300</td>\n",
       "      <td>0.917</td>\n",
       "      <td>17531.0</td>\n",
       "      <td>84140.0</td>\n",
       "      <td>2.0</td>\n",
       "      <td>3.0</td>\n",
       "      <td>1.0</td>\n",
       "      <td>98.69</td>\n",
       "      <td>7</td>\n",
       "      <td>12039</td>\n",
       "      <td>0</td>\n",
       "      <td>0</td>\n",
       "      <td>15.0</td>\n",
       "    </tr>\n",
       "    <tr>\n",
       "      <th>3</th>\n",
       "      <td>19415</td>\n",
       "      <td>0.049</td>\n",
       "      <td>15341.0</td>\n",
       "      <td>250510.0</td>\n",
       "      <td>0.0</td>\n",
       "      <td>0.0</td>\n",
       "      <td>0.0</td>\n",
       "      <td>99.57</td>\n",
       "      <td>9</td>\n",
       "      <td>43134</td>\n",
       "      <td>1</td>\n",
       "      <td>1</td>\n",
       "      <td>0.0</td>\n",
       "    </tr>\n",
       "    <tr>\n",
       "      <th>4</th>\n",
       "      <td>99379</td>\n",
       "      <td>0.052</td>\n",
       "      <td>31400.0</td>\n",
       "      <td>198680.0</td>\n",
       "      <td>0.0</td>\n",
       "      <td>0.0</td>\n",
       "      <td>0.0</td>\n",
       "      <td>99.87</td>\n",
       "      <td>12</td>\n",
       "      <td>16512</td>\n",
       "      <td>1</td>\n",
       "      <td>1</td>\n",
       "      <td>0.0</td>\n",
       "    </tr>\n",
       "  </tbody>\n",
       "</table>\n",
       "</div>"
      ],
      "text/plain": [
       "       id  perc_premium_paid_by_cash_credit  age_in_days    Income  \\\n",
       "0  110936                             0.429      12058.0  355060.0   \n",
       "1   41492                             0.010      21546.0  315150.0   \n",
       "2   31300                             0.917      17531.0   84140.0   \n",
       "3   19415                             0.049      15341.0  250510.0   \n",
       "4   99379                             0.052      31400.0  198680.0   \n",
       "\n",
       "   Count_3-6_months_late  Count_6-12_months_late  \\\n",
       "0                    0.0                     0.0   \n",
       "1                    0.0                     0.0   \n",
       "2                    2.0                     3.0   \n",
       "3                    0.0                     0.0   \n",
       "4                    0.0                     0.0   \n",
       "\n",
       "   Count_more_than_12_months_late  application_underwriting_score  \\\n",
       "0                             0.0                           99.02   \n",
       "1                             0.0                           99.89   \n",
       "2                             1.0                           98.69   \n",
       "3                             0.0                           99.57   \n",
       "4                             0.0                           99.87   \n",
       "\n",
       "   no_of_premiums_paid  sourcing_channel  residence_area_type  target  count  \n",
       "0                   13             12039                    1       1    0.0  \n",
       "1                   21             43134                    1       1    0.0  \n",
       "2                    7             12039                    0       0   15.0  \n",
       "3                    9             43134                    1       1    0.0  \n",
       "4                   12             16512                    1       1    0.0  "
      ]
     },
     "execution_count": 35,
     "metadata": {},
     "output_type": "execute_result"
    }
   ],
   "source": [
    "data_tr.head()"
   ]
  },
  {
   "cell_type": "code",
   "execution_count": 36,
   "metadata": {},
   "outputs": [],
   "source": [
    "data_te=data_test.copy()\n",
    "data_tra=data_tr.copy()"
   ]
  },
  {
   "cell_type": "code",
   "execution_count": 37,
   "metadata": {},
   "outputs": [],
   "source": [
    "data_te=data_te.drop(['id', 'Count_3-6_months_late', 'Count_6-12_months_late','Count_more_than_12_months_late'], axis=1)\n",
    "data_tra=data_tra.drop(['id', 'Count_3-6_months_late', 'Count_6-12_months_late','Count_more_than_12_months_late','target'],axis=1)"
   ]
  },
  {
   "cell_type": "code",
   "execution_count": 38,
   "metadata": {},
   "outputs": [
    {
     "data": {
      "text/plain": [
       "<matplotlib.axes._subplots.AxesSubplot at 0x7fb610cbe710>"
      ]
     },
     "execution_count": 38,
     "metadata": {},
     "output_type": "execute_result"
    },
    {
     "data": {
      "image/png": "[encoded data removed]",
      "text/plain": [
       "<Figure size 432x288 with 1 Axes>"
      ]
     },
     "metadata": {
      "needs_background": "light"
     },
     "output_type": "display_data"
    }
   ],
   "source": [
    "data_tra['prem']=data_tra['perc_premium_paid_by_cash_credit']*data_tra['Income']\n",
    "data_te['prem']=data_te['perc_premium_paid_by_cash_credit']*data_te['Income']\n",
    "data_tra['prem'].plot.hist()"
   ]
  },
  {
   "cell_type": "markdown",
   "metadata": {},
   "source": [
    "## Scaling and preprocessing of data"
   ]
  },
  {
   "cell_type": "code",
   "execution_count": 39,
   "metadata": {},
   "outputs": [
    {
     "data": {
      "text/plain": [
       "array([[ 1.89587202, -1.30660149],\n",
       "       [ 1.46151453,  0.52264192],\n",
       "       [-1.05266547, -0.25143189],\n",
       "       ...,\n",
       "       [ 1.35126543,  0.87468644],\n",
       "       [-1.54035175,  0.73375296],\n",
       "       [ 1.08048582, -0.60270524]])"
      ]
     },
     "execution_count": 39,
     "metadata": {},
     "output_type": "execute_result"
    }
   ],
   "source": [
    "from sklearn.preprocessing import StandardScaler\n",
    "scaler=StandardScaler()\n",
    "scaler.fit_transform(data_tra[['Income','age_in_days']])"
   ]
  },
  {
   "cell_type": "code",
   "execution_count": 40,
   "metadata": {},
   "outputs": [
    {
     "data": {
      "text/html": [
       "<div>\n",
       "<style scoped>\n",
       "    .dataframe tbody tr th:only-of-type {\n",
       "        vertical-align: middle;\n",
       "    }\n",
       "\n",
       "    .dataframe tbody tr th {\n",
       "        vertical-align: top;\n",
       "    }\n",
       "\n",
       "    .dataframe thead th {\n",
       "        text-align: right;\n",
       "    }\n",
       "</style>\n",
       "<table border=\"1\" class=\"dataframe\">\n",
       "  <thead>\n",
       "    <tr style=\"text-align: right;\">\n",
       "      <th></th>\n",
       "      <th>perc_premium_paid_by_cash_credit</th>\n",
       "      <th>age_in_days</th>\n",
       "      <th>Income</th>\n",
       "      <th>application_underwriting_score</th>\n",
       "      <th>no_of_premiums_paid</th>\n",
       "      <th>sourcing_channel</th>\n",
       "      <th>residence_area_type</th>\n",
       "      <th>count</th>\n",
       "      <th>prem</th>\n",
       "    </tr>\n",
       "  </thead>\n",
       "  <tbody>\n",
       "    <tr>\n",
       "      <th>0</th>\n",
       "      <td>0.429</td>\n",
       "      <td>12058.0</td>\n",
       "      <td>355060.0</td>\n",
       "      <td>99.02</td>\n",
       "      <td>13</td>\n",
       "      <td>12039</td>\n",
       "      <td>1</td>\n",
       "      <td>0.0</td>\n",
       "      <td>152320.74</td>\n",
       "    </tr>\n",
       "    <tr>\n",
       "      <th>1</th>\n",
       "      <td>0.010</td>\n",
       "      <td>21546.0</td>\n",
       "      <td>315150.0</td>\n",
       "      <td>99.89</td>\n",
       "      <td>21</td>\n",
       "      <td>43134</td>\n",
       "      <td>1</td>\n",
       "      <td>0.0</td>\n",
       "      <td>3151.50</td>\n",
       "    </tr>\n",
       "    <tr>\n",
       "      <th>2</th>\n",
       "      <td>0.917</td>\n",
       "      <td>17531.0</td>\n",
       "      <td>84140.0</td>\n",
       "      <td>98.69</td>\n",
       "      <td>7</td>\n",
       "      <td>12039</td>\n",
       "      <td>0</td>\n",
       "      <td>15.0</td>\n",
       "      <td>77156.38</td>\n",
       "    </tr>\n",
       "    <tr>\n",
       "      <th>3</th>\n",
       "      <td>0.049</td>\n",
       "      <td>15341.0</td>\n",
       "      <td>250510.0</td>\n",
       "      <td>99.57</td>\n",
       "      <td>9</td>\n",
       "      <td>43134</td>\n",
       "      <td>1</td>\n",
       "      <td>0.0</td>\n",
       "      <td>12274.99</td>\n",
       "    </tr>\n",
       "    <tr>\n",
       "      <th>4</th>\n",
       "      <td>0.052</td>\n",
       "      <td>31400.0</td>\n",
       "      <td>198680.0</td>\n",
       "      <td>99.87</td>\n",
       "      <td>12</td>\n",
       "      <td>16512</td>\n",
       "      <td>1</td>\n",
       "      <td>0.0</td>\n",
       "      <td>10331.36</td>\n",
       "    </tr>\n",
       "  </tbody>\n",
       "</table>\n",
       "</div>"
      ],
      "text/plain": [
       "   perc_premium_paid_by_cash_credit  age_in_days    Income  \\\n",
       "0                             0.429      12058.0  355060.0   \n",
       "1                             0.010      21546.0  315150.0   \n",
       "2                             0.917      17531.0   84140.0   \n",
       "3                             0.049      15341.0  250510.0   \n",
       "4                             0.052      31400.0  198680.0   \n",
       "\n",
       "   application_underwriting_score  no_of_premiums_paid  sourcing_channel  \\\n",
       "0                           99.02                   13             12039   \n",
       "1                           99.89                   21             43134   \n",
       "2                           98.69                    7             12039   \n",
       "3                           99.57                    9             43134   \n",
       "4                           99.87                   12             16512   \n",
       "\n",
       "   residence_area_type  count       prem  \n",
       "0                    1    0.0  152320.74  \n",
       "1                    1    0.0    3151.50  \n",
       "2                    0   15.0   77156.38  \n",
       "3                    1    0.0   12274.99  \n",
       "4                    1    0.0   10331.36  "
      ]
     },
     "execution_count": 40,
     "metadata": {},
     "output_type": "execute_result"
    }
   ],
   "source": [
    "data_tra.head()"
   ]
  },
  {
   "cell_type": "code",
   "execution_count": 41,
   "metadata": {},
   "outputs": [],
   "source": [
    "data_tra['Income']=scaler.fit_transform(data_tra[['Income']])"
   ]
  },
  {
   "cell_type": "code",
   "execution_count": 42,
   "metadata": {},
   "outputs": [],
   "source": [
    "data_te['Income']=scaler.fit_transform(data_te[['Income']])\n",
    "data_tra['age_in_days']=scaler.fit_transform(data_tra[['age_in_days']])\n",
    "data_te['age_in_days']=scaler.fit_transform(data_te[['age_in_days']])\n",
    "data_tra['application_underwriting_score']=scaler.fit_transform(data_tra[['application_underwriting_score']])\n",
    "data_te['application_underwriting_score']=scaler.fit_transform(data_te[['application_underwriting_score']])\n",
    "data_tra['prem']=scaler.fit_transform(data_tra[['prem']])\n",
    "data_te['prem']=scaler.fit_transform(data_te[['prem']])"
   ]
  },
  {
   "cell_type": "code",
   "execution_count": 43,
   "metadata": {},
   "outputs": [],
   "source": [
    "data_tra['sourcing_channel']=(data_tra['sourcing_channel']*0.0001)\n"
   ]
  },
  {
   "cell_type": "code",
   "execution_count": 44,
   "metadata": {},
   "outputs": [],
   "source": [
    "data_te['sourcing_channel']=(data_te['sourcing_channel']*0.0001)"
   ]
  },
  {
   "cell_type": "code",
   "execution_count": 45,
   "metadata": {},
   "outputs": [
    {
     "data": {
      "text/plain": [
       "<matplotlib.axes._subplots.AxesSubplot at 0x7fb610c457f0>"
      ]
     },
     "execution_count": 45,
     "metadata": {},
     "output_type": "execute_result"
    },
    {
     "data": {
      "image/png": "[encoded data removed]",
      "text/plain": [
       "<Figure size 1440x720 with 2 Axes>"
      ]
     },
     "metadata": {
      "needs_background": "light"
     },
     "output_type": "display_data"
    }
   ],
   "source": [
    "# looking at the correlation between numerical variables\n",
    "corr = data_tra[[\"prem\",\"perc_premium_paid_by_cash_credit\",\"age_in_days\",\"Income\",\"application_underwriting_score\",\"no_of_premiums_paid\",\"count\"]].corr()\n",
    "mask = np.array(corr)\n",
    "mask[np.tril_indices_from(mask)] = False\n",
    "fig,ax= plt.subplots()\n",
    "fig.set_size_inches(20,10)\n",
    "sn.heatmap(corr, mask=mask,vmax=.9, square=True,annot=True, cmap=\"YlGnBu\")"
   ]
  },
  {
   "cell_type": "code",
   "execution_count": 46,
   "metadata": {},
   "outputs": [],
   "source": [
    "data_tra['prem1']=np.power((data_tra['prem']),1/3)\n",
    "data_te['prem1']=np.power((data_te['prem']),1/3)\n"
   ]
  },
  {
   "cell_type": "code",
   "execution_count": 47,
   "metadata": {},
   "outputs": [],
   "source": [
    "data_tra['prem1']=scaler.fit_transform(data_tra[['prem1']])\n",
    "data_te['prem1']=scaler.fit_transform(data_te[['prem1']])"
   ]
  },
  {
   "cell_type": "code",
   "execution_count": 48,
   "metadata": {},
   "outputs": [
    {
     "data": {
      "text/plain": [
       "<matplotlib.axes._subplots.AxesSubplot at 0x7fb60ed08080>"
      ]
     },
     "execution_count": 48,
     "metadata": {},
     "output_type": "execute_result"
    },
    {
     "data": {
      "image/png": "[encoded data removed]",
      "text/plain": [
       "<Figure size 432x288 with 1 Axes>"
      ]
     },
     "metadata": {
      "needs_background": "light"
     },
     "output_type": "display_data"
    }
   ],
   "source": [
    "np.power((data_tra['prem1']),1).plot.hist()"
   ]
  },
  {
   "cell_type": "markdown",
   "metadata": {},
   "source": [
    "#Variable transformation "
   ]
  },
  {
   "cell_type": "code",
   "execution_count": 49,
   "metadata": {},
   "outputs": [
    {
     "name": "stderr",
     "output_type": "stream",
     "text": [
      "/home/ec2-user/anaconda3/envs/python3/lib/python3.6/site-packages/pandas/core/series.py:679: RuntimeWarning: invalid value encountered in sqrt\n",
      "  result = getattr(ufunc, method)(*inputs, **kwargs)\n"
     ]
    }
   ],
   "source": [
    "data_tra['Income']=np.sqrt(data_tra['Income'])\n",
    "data_te['Income']=np.sqrt(data_te['Income'])"
   ]
  },
  {
   "cell_type": "code",
   "execution_count": 50,
   "metadata": {},
   "outputs": [],
   "source": [
    "data_tra['perc_premium']=np.power((data_tra['perc_premium_paid_by_cash_credit']),1/3)\n",
    "data_te['perc_premium']=np.power((data_te['perc_premium_paid_by_cash_credit']),1/3)"
   ]
  },
  {
   "cell_type": "code",
   "execution_count": 51,
   "metadata": {},
   "outputs": [],
   "source": [
    "data_tra['application_underwriting_score']=np.power((data_tra['application_underwriting_score']),1/2)\n",
    "data_te['application_underwriting_score']=np.power((data_te['application_underwriting_score']),1/2)"
   ]
  },
  {
   "cell_type": "code",
   "execution_count": 52,
   "metadata": {},
   "outputs": [],
   "source": [
    "data_tra['no_premiums_paid']=scaler.fit_transform(data_tra[['no_of_premiums_paid']])\n",
    "data_te['no_premiums_paid']=scaler.fit_transform(data_te[['no_of_premiums_paid']])"
   ]
  },
  {
   "cell_type": "code",
   "execution_count": 53,
   "metadata": {},
   "outputs": [],
   "source": [
    "data_tra['no_of_premiums_paid']=np.power((data_tra['no_of_premiums_paid']),1/3)\n",
    "data_te['no_of_premiums_paid']=np.power((data_te['no_of_premiums_paid']),1/3)"
   ]
  },
  {
   "cell_type": "code",
   "execution_count": 54,
   "metadata": {},
   "outputs": [],
   "source": [
    "data_tra['sc']=scaler.fit_transform(data_tra[['sourcing_channel']])\n",
    "data_te['sc']=scaler.fit_transform(data_te[['sourcing_channel']])"
   ]
  },
  {
   "cell_type": "code",
   "execution_count": 55,
   "metadata": {},
   "outputs": [
    {
     "data": {
      "text/html": [
       "<div>\n",
       "<style scoped>\n",
       "    .dataframe tbody tr th:only-of-type {\n",
       "        vertical-align: middle;\n",
       "    }\n",
       "\n",
       "    .dataframe tbody tr th {\n",
       "        vertical-align: top;\n",
       "    }\n",
       "\n",
       "    .dataframe thead th {\n",
       "        text-align: right;\n",
       "    }\n",
       "</style>\n",
       "<table border=\"1\" class=\"dataframe\">\n",
       "  <thead>\n",
       "    <tr style=\"text-align: right;\">\n",
       "      <th></th>\n",
       "      <th>perc_premium_paid_by_cash_credit</th>\n",
       "      <th>age_in_days</th>\n",
       "      <th>Income</th>\n",
       "      <th>application_underwriting_score</th>\n",
       "      <th>no_of_premiums_paid</th>\n",
       "      <th>sourcing_channel</th>\n",
       "      <th>residence_area_type</th>\n",
       "      <th>count</th>\n",
       "      <th>prem</th>\n",
       "      <th>prem1</th>\n",
       "      <th>perc_premium</th>\n",
       "      <th>no_premiums_paid</th>\n",
       "      <th>sc</th>\n",
       "    </tr>\n",
       "  </thead>\n",
       "  <tbody>\n",
       "    <tr>\n",
       "      <th>0</th>\n",
       "      <td>0.429</td>\n",
       "      <td>-1.306601</td>\n",
       "      <td>1.376907</td>\n",
       "      <td>NaN</td>\n",
       "      <td>2.351335</td>\n",
       "      <td>1.2039</td>\n",
       "      <td>1</td>\n",
       "      <td>0.0</td>\n",
       "      <td>1.492298</td>\n",
       "      <td>0.675316</td>\n",
       "      <td>0.754199</td>\n",
       "      <td>0.413122</td>\n",
       "      <td>-1.127161</td>\n",
       "    </tr>\n",
       "    <tr>\n",
       "      <th>1</th>\n",
       "      <td>0.010</td>\n",
       "      <td>0.522642</td>\n",
       "      <td>1.208931</td>\n",
       "      <td>1.064605</td>\n",
       "      <td>2.758924</td>\n",
       "      <td>4.3134</td>\n",
       "      <td>1</td>\n",
       "      <td>0.0</td>\n",
       "      <td>-0.756642</td>\n",
       "      <td>NaN</td>\n",
       "      <td>0.215443</td>\n",
       "      <td>1.960315</td>\n",
       "      <td>0.909370</td>\n",
       "    </tr>\n",
       "    <tr>\n",
       "      <th>2</th>\n",
       "      <td>0.917</td>\n",
       "      <td>-0.251432</td>\n",
       "      <td>NaN</td>\n",
       "      <td>NaN</td>\n",
       "      <td>1.912931</td>\n",
       "      <td>1.2039</td>\n",
       "      <td>0</td>\n",
       "      <td>15.0</td>\n",
       "      <td>0.359088</td>\n",
       "      <td>-0.663812</td>\n",
       "      <td>0.971531</td>\n",
       "      <td>-0.747272</td>\n",
       "      <td>-1.127161</td>\n",
       "    </tr>\n",
       "    <tr>\n",
       "      <th>3</th>\n",
       "      <td>0.049</td>\n",
       "      <td>-0.673654</td>\n",
       "      <td>0.870638</td>\n",
       "      <td>0.832192</td>\n",
       "      <td>2.080084</td>\n",
       "      <td>4.3134</td>\n",
       "      <td>1</td>\n",
       "      <td>0.0</td>\n",
       "      <td>-0.619092</td>\n",
       "      <td>NaN</td>\n",
       "      <td>0.365931</td>\n",
       "      <td>-0.360474</td>\n",
       "      <td>0.909370</td>\n",
       "    </tr>\n",
       "    <tr>\n",
       "      <th>4</th>\n",
       "      <td>0.052</td>\n",
       "      <td>2.422448</td>\n",
       "      <td>0.440366</td>\n",
       "      <td>1.051585</td>\n",
       "      <td>2.289428</td>\n",
       "      <td>1.6512</td>\n",
       "      <td>1</td>\n",
       "      <td>0.0</td>\n",
       "      <td>-0.648395</td>\n",
       "      <td>NaN</td>\n",
       "      <td>0.373251</td>\n",
       "      <td>0.219723</td>\n",
       "      <td>-0.834207</td>\n",
       "    </tr>\n",
       "  </tbody>\n",
       "</table>\n",
       "</div>"
      ],
      "text/plain": [
       "   perc_premium_paid_by_cash_credit  age_in_days    Income  \\\n",
       "0                             0.429    -1.306601  1.376907   \n",
       "1                             0.010     0.522642  1.208931   \n",
       "2                             0.917    -0.251432       NaN   \n",
       "3                             0.049    -0.673654  0.870638   \n",
       "4                             0.052     2.422448  0.440366   \n",
       "\n",
       "   application_underwriting_score  no_of_premiums_paid  sourcing_channel  \\\n",
       "0                             NaN             2.351335            1.2039   \n",
       "1                        1.064605             2.758924            4.3134   \n",
       "2                             NaN             1.912931            1.2039   \n",
       "3                        0.832192             2.080084            4.3134   \n",
       "4                        1.051585             2.289428            1.6512   \n",
       "\n",
       "   residence_area_type  count      prem     prem1  perc_premium  \\\n",
       "0                    1    0.0  1.492298  0.675316      0.754199   \n",
       "1                    1    0.0 -0.756642       NaN      0.215443   \n",
       "2                    0   15.0  0.359088 -0.663812      0.971531   \n",
       "3                    1    0.0 -0.619092       NaN      0.365931   \n",
       "4                    1    0.0 -0.648395       NaN      0.373251   \n",
       "\n",
       "   no_premiums_paid        sc  \n",
       "0          0.413122 -1.127161  \n",
       "1          1.960315  0.909370  \n",
       "2         -0.747272 -1.127161  \n",
       "3         -0.360474  0.909370  \n",
       "4          0.219723 -0.834207  "
      ]
     },
     "execution_count": 55,
     "metadata": {},
     "output_type": "execute_result"
    }
   ],
   "source": [
    "data_tra.head()"
   ]
  },
  {
   "cell_type": "code",
   "execution_count": 56,
   "metadata": {},
   "outputs": [],
   "source": [
    "data_tra['in']=data['Income']"
   ]
  },
  {
   "cell_type": "code",
   "execution_count": 57,
   "metadata": {},
   "outputs": [],
   "source": [
    "data_te['in']=data_test['Income']"
   ]
  },
  {
   "cell_type": "code",
   "execution_count": 58,
   "metadata": {},
   "outputs": [],
   "source": [
    "data_tra['app']=data['application_underwriting_score']\n",
    "data_te['app']=data_test['application_underwriting_score']"
   ]
  },
  {
   "cell_type": "code",
   "execution_count": 59,
   "metadata": {},
   "outputs": [],
   "source": [
    "from sklearn.preprocessing import MinMaxScaler\n",
    "scalerr = MinMaxScaler()\n",
    "data_tra['app']=scaler.fit_transform(data_tra[['app']])\n",
    "data_te['app']=scaler.fit_transform(data_te[['app']])\n",
    "data_tra['in']=scaler.fit_transform(data_tra[['in']])\n",
    "data_te['in']=scaler.fit_transform(data_te[['in']])"
   ]
  },
  {
   "cell_type": "code",
   "execution_count": 60,
   "metadata": {},
   "outputs": [
    {
     "data": {
      "text/plain": [
       "<matplotlib.axes._subplots.AxesSubplot at 0x7fb60eb8bb00>"
      ]
     },
     "execution_count": 60,
     "metadata": {},
     "output_type": "execute_result"
    },
    {
     "data": {
      "image/png": "[encoded data removed]",
      "text/plain": [
       "<Figure size 432x288 with 1 Axes>"
      ]
     },
     "metadata": {
      "needs_background": "light"
     },
     "output_type": "display_data"
    }
   ],
   "source": [
    "data_tra['prem2']=data_tra['perc_premium_paid_by_cash_credit']*data_tra['in']\n",
    "data_te['prem2']=data_te['perc_premium_paid_by_cash_credit']*data_te['in']\n",
    "data_tra['prem2'].plot.hist()"
   ]
  },
  {
   "cell_type": "code",
   "execution_count": 61,
   "metadata": {},
   "outputs": [
    {
     "data": {
      "text/plain": [
       "<matplotlib.axes._subplots.AxesSubplot at 0x7fb60e977470>"
      ]
     },
     "execution_count": 61,
     "metadata": {},
     "output_type": "execute_result"
    },
    {
     "data": {
      "image/png": "[encoded data removed]",
      "text/plain": [
       "<Figure size 432x288 with 1 Axes>"
      ]
     },
     "metadata": {
      "needs_background": "light"
     },
     "output_type": "display_data"
    }
   ],
   "source": [
    "np.power((data_tra['prem']),1/3).plot.hist()"
   ]
  },
  {
   "cell_type": "code",
   "execution_count": null,
   "metadata": {},
   "outputs": [],
   "source": []
  },
  {
   "cell_type": "markdown",
   "metadata": {},
   "source": [
    "## Model building"
   ]
  },
  {
   "cell_type": "code",
   "execution_count": 62,
   "metadata": {},
   "outputs": [],
   "source": [
    "from sklearn.linear_model import LinearRegression\n",
    "# initialize the linear regression model\n",
    "Model = LinearRegression()"
   ]
  },
  {
   "cell_type": "code",
   "execution_count": 63,
   "metadata": {},
   "outputs": [],
   "source": [
    "X_train = data_tra.drop(['sourcing_channel', 'no_of_premiums_paid','Income','application_underwriting_score','prem1'], axis=1)\n",
    "y_train = (data['target'])\n",
    "X_val = data_te.drop(['sourcing_channel', 'no_of_premiums_paid','Income','application_underwriting_score','prem1'], axis=1)"
   ]
  },
  {
   "cell_type": "code",
   "execution_count": 64,
   "metadata": {},
   "outputs": [
    {
     "name": "stdout",
     "output_type": "stream",
     "text": [
      "Train:  [ 7971  7972  7973 ... 79850 79851 79852] Validation:  [   0    1    2 ... 8106 8139 8173]\n",
      "Train:  [    0     1     2 ... 79850 79851 79852] Validation:  [ 7971  7972  7973 ... 15980 15981 15983]\n",
      "Train:  [    0     1     2 ... 79850 79851 79852] Validation:  [15926 15930 15931 ... 24004 24005 24006]\n",
      "Train:  [    0     1     2 ... 79850 79851 79852] Validation:  [23261 23268 23280 ... 32026 32027 32028]\n",
      "Train:  [    0     1     2 ... 79850 79851 79852] Validation:  [30613 30623 30643 ... 39985 39988 39989]\n",
      "Train:  [    0     1     2 ... 79850 79851 79852] Validation:  [38973 38988 38989 ... 47974 47976 47977]\n",
      "Train:  [    0     1     2 ... 79850 79851 79852] Validation:  [46872 46875 46880 ... 55944 55945 55946]\n",
      "Train:  [    0     1     2 ... 79850 79851 79852] Validation:  [55111 55113 55153 ... 63909 63910 63911]\n",
      "Train:  [    0     1     2 ... 79850 79851 79852] Validation:  [63348 63364 63371 ... 71876 71877 71880]\n",
      "Train:  [    0     1     2 ... 71876 71877 71880] Validation:  [71864 71865 71867 ... 79850 79851 79852]\n",
      "[0.9386426245930378, 0.939519158527423, 0.9392687202604558, 0.939261114589856, 0.9397620538509706, 0.9378835316217908, 0.9378835316217908, 0.939636819035692, 0.9377582968065122, 0.939636819035692]\n"
     ]
    }
   ],
   "source": [
    "X=X_train.copy()\n",
    "Y=data['target']\n",
    "from sklearn.model_selection import StratifiedKFold\n",
    "from sklearn.metrics import accuracy_score\n",
    "accuracy=[]\n",
    "skf=StratifiedKFold(n_splits=10, random_state=None)\n",
    "skf.get_n_splits(X,Y)\n",
    "for train_index, test_index in skf.split(X,Y):\n",
    "    print(\"Train: \", train_index, \"Validation: \", test_index)\n",
    "    X1_train, X1_test, y1_train, y1_test=X.iloc[train_index], X.iloc[test_index], Y.iloc[train_index], Y.iloc[test_index]\n",
    "    Model.fit(X1_train,y1_train) # fitting the model on X1_train and y1_train\n",
    "    prediction=Model.predict(X1_test)\n",
    "    score=accuracy_score(prediction.round(),y1_test)\n",
    "    accuracy.append(score)\n",
    "print(accuracy)"
   ]
  },
  {
   "cell_type": "code",
   "execution_count": 65,
   "metadata": {},
   "outputs": [],
   "source": [
    "\n",
    "ans=Model.predict(X_val)"
   ]
  },
  {
   "cell_type": "markdown",
   "metadata": {},
   "source": [
    "## save the predictions in a csv file"
   ]
  },
  {
   "cell_type": "code",
   "execution_count": 66,
   "metadata": {},
   "outputs": [],
   "source": [
    "solution = pd.DataFrame()\n",
    "# creating a target column and saving the predictions in it\n",
    "solution['id']=data_test['id']\n",
    "solution['target'] = ans\n",
    "solution.to_csv('sollr.csv', header=True, index=False)\n"
   ]
  },
  {
   "cell_type": "code",
   "execution_count": 67,
   "metadata": {},
   "outputs": [
    {
     "data": {
      "text/html": [
       "<div>\n",
       "<style scoped>\n",
       "    .dataframe tbody tr th:only-of-type {\n",
       "        vertical-align: middle;\n",
       "    }\n",
       "\n",
       "    .dataframe tbody tr th {\n",
       "        vertical-align: top;\n",
       "    }\n",
       "\n",
       "    .dataframe thead th {\n",
       "        text-align: right;\n",
       "    }\n",
       "</style>\n",
       "<table border=\"1\" class=\"dataframe\">\n",
       "  <thead>\n",
       "    <tr style=\"text-align: right;\">\n",
       "      <th></th>\n",
       "      <th>perc_premium_paid_by_cash_credit</th>\n",
       "      <th>age_in_days</th>\n",
       "      <th>residence_area_type</th>\n",
       "      <th>count</th>\n",
       "      <th>prem</th>\n",
       "      <th>perc_premium</th>\n",
       "      <th>no_premiums_paid</th>\n",
       "      <th>sc</th>\n",
       "      <th>in</th>\n",
       "      <th>app</th>\n",
       "      <th>prem2</th>\n",
       "    </tr>\n",
       "  </thead>\n",
       "  <tbody>\n",
       "    <tr>\n",
       "      <th>0</th>\n",
       "      <td>0.429</td>\n",
       "      <td>-1.306601</td>\n",
       "      <td>1</td>\n",
       "      <td>0.0</td>\n",
       "      <td>1.492298</td>\n",
       "      <td>0.754199</td>\n",
       "      <td>0.413122</td>\n",
       "      <td>-1.127161</td>\n",
       "      <td>1.895872</td>\n",
       "      <td>-0.065150</td>\n",
       "      <td>0.813329</td>\n",
       "    </tr>\n",
       "    <tr>\n",
       "      <th>1</th>\n",
       "      <td>0.010</td>\n",
       "      <td>0.522642</td>\n",
       "      <td>1</td>\n",
       "      <td>0.0</td>\n",
       "      <td>-0.756642</td>\n",
       "      <td>0.215443</td>\n",
       "      <td>1.960315</td>\n",
       "      <td>0.909370</td>\n",
       "      <td>1.461515</td>\n",
       "      <td>1.133384</td>\n",
       "      <td>0.014615</td>\n",
       "    </tr>\n",
       "    <tr>\n",
       "      <th>2</th>\n",
       "      <td>0.917</td>\n",
       "      <td>-0.251432</td>\n",
       "      <td>0</td>\n",
       "      <td>15.0</td>\n",
       "      <td>0.359088</td>\n",
       "      <td>0.971531</td>\n",
       "      <td>-0.747272</td>\n",
       "      <td>-1.127161</td>\n",
       "      <td>-1.052665</td>\n",
       "      <td>-0.519766</td>\n",
       "      <td>-0.965294</td>\n",
       "    </tr>\n",
       "    <tr>\n",
       "      <th>3</th>\n",
       "      <td>0.049</td>\n",
       "      <td>-0.673654</td>\n",
       "      <td>1</td>\n",
       "      <td>0.0</td>\n",
       "      <td>-0.619092</td>\n",
       "      <td>0.365931</td>\n",
       "      <td>-0.360474</td>\n",
       "      <td>0.909370</td>\n",
       "      <td>0.758010</td>\n",
       "      <td>0.692544</td>\n",
       "      <td>0.037142</td>\n",
       "    </tr>\n",
       "    <tr>\n",
       "      <th>4</th>\n",
       "      <td>0.052</td>\n",
       "      <td>2.422448</td>\n",
       "      <td>1</td>\n",
       "      <td>0.0</td>\n",
       "      <td>-0.648395</td>\n",
       "      <td>0.373251</td>\n",
       "      <td>0.219723</td>\n",
       "      <td>-0.834207</td>\n",
       "      <td>0.193922</td>\n",
       "      <td>1.105831</td>\n",
       "      <td>0.010084</td>\n",
       "    </tr>\n",
       "  </tbody>\n",
       "</table>\n",
       "</div>"
      ],
      "text/plain": [
       "   perc_premium_paid_by_cash_credit  age_in_days  residence_area_type  count  \\\n",
       "0                             0.429    -1.306601                    1    0.0   \n",
       "1                             0.010     0.522642                    1    0.0   \n",
       "2                             0.917    -0.251432                    0   15.0   \n",
       "3                             0.049    -0.673654                    1    0.0   \n",
       "4                             0.052     2.422448                    1    0.0   \n",
       "\n",
       "       prem  perc_premium  no_premiums_paid        sc        in       app  \\\n",
       "0  1.492298      0.754199          0.413122 -1.127161  1.895872 -0.065150   \n",
       "1 -0.756642      0.215443          1.960315  0.909370  1.461515  1.133384   \n",
       "2  0.359088      0.971531         -0.747272 -1.127161 -1.052665 -0.519766   \n",
       "3 -0.619092      0.365931         -0.360474  0.909370  0.758010  0.692544   \n",
       "4 -0.648395      0.373251          0.219723 -0.834207  0.193922  1.105831   \n",
       "\n",
       "      prem2  \n",
       "0  0.813329  \n",
       "1  0.014615  \n",
       "2 -0.965294  \n",
       "3  0.037142  \n",
       "4  0.010084  "
      ]
     },
     "execution_count": 67,
     "metadata": {},
     "output_type": "execute_result"
    }
   ],
   "source": [
    "X_train.head()"
   ]
  },
  {
   "cell_type": "code",
   "execution_count": null,
   "metadata": {},
   "outputs": [],
   "source": []
  }
 ],
 "metadata": {
  "kernelspec": {
   "display_name": "conda_python3",
   "language": "python",
   "name": "conda_python3"
  },
  "language_info": {
   "codemirror_mode": {
    "name": "ipython",
    "version": 3
   },
   "file_extension": ".py",
   "mimetype": "text/x-python",
   "name": "python",
   "nbconvert_exporter": "python",
   "pygments_lexer": "ipython3",
   "version": "3.6.10"
  }
 },
 "nbformat": 4,
 "nbformat_minor": 4
}
